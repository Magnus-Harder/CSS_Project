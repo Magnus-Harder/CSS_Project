{
 "cells": [
  {
   "cell_type": "code",
   "execution_count": 86,
   "metadata": {},
   "outputs": [],
   "source": [
    "import pandas as pd\n",
    "import nltk\n",
    "from nltk import tokenize\n",
    "import re\n",
    "\n",
    "# Read the data\n",
    "with open(\"1.Dataset_files/Books/Book 1 - The Philosopher's Stone.txt\", \"r\") as f:\n",
    "    Book1 = f.read()\n",
    "\n",
    "\n",
    "def split_chapter(Book):\n",
    "    split_string = \"\\n{9}|\\n{8}|\\n{7}|\\n{6}|\\n{5}[0-9]+\\s?\\n{5}\"\n",
    "    Chapters_text = {idx+1 : chapter for idx, chapter in enumerate(re.split(split_string, Book[7:]))}\n",
    "\n",
    "    return Chapters_text\n",
    "\n",
    "\n",
    "def split_pages(Chapter):\n",
    "    split_string = \"Page \\| [0-9]+ Harry Potter and the Philosophers Stone -\\s?J.K. Rowling\"\n",
    "    Pages_text = re.split(split_string,Chapter)\n",
    "    return Pages_text\n",
    "\n",
    "def format_page(Page):\n",
    "    Page = re.sub(\"\\n+|\\t\",\"\",Page)\n",
    "    Page = tokenize.sent_tokenize(Page)\n",
    "    return Page\n",
    "\n",
    "\n",
    "def split_book(Book):\n",
    "    Chapters_text = split_chapter(Book)\n",
    "    for chapter in Chapters_text:\n",
    "        Pages_text = split_pages(Chapters_text[chapter])\n",
    "        Pages_text = [format_page(Page) for Page in Pages_text[:-1]]\n",
    "        Chapters_text[chapter] = Pages_text\n",
    "\n",
    "    for chapter in Chapters_text:\n",
    "        for idx,page in enumerate(Chapters_text[chapter]):\n",
    "            if idx == 0:\n",
    "                continue\n",
    "            else:\n",
    "                if not page[0][0].isupper():\n",
    "\n",
    "                    Chapters_text[chapter][idx-1][-1] = Chapters_text[chapter][idx-1][-1] + \" \" + page[0]\n",
    "                    \n",
    "                    Chapters_text[chapter][idx] = page[1:]\n",
    "                \n",
    "    return Chapters_text\n"
   ]
  },
  {
   "attachments": {},
   "cell_type": "markdown",
   "metadata": {},
   "source": [
    "### Format Book 1"
   ]
  },
  {
   "cell_type": "code",
   "execution_count": 87,
   "metadata": {},
   "outputs": [
    {
     "name": "stdout",
     "output_type": "stream",
     "text": [
      "Book 1 has: 347 Pages\n"
     ]
    }
   ],
   "source": [
    "Chapters_text = split_book(Book1)\n",
    "\n",
    "pages = 0\n",
    "for chapter in Chapters_text:\n",
    "    pages += len(Chapters_text[chapter])\n",
    "print(\"Book 1 has:\",pages,\"Pages\")"
   ]
  },
  {
   "cell_type": "code",
   "execution_count": 88,
   "metadata": {},
   "outputs": [],
   "source": [
    "import pickle as pkl\n",
    "\n",
    "with open(\"1.Dataset_files/Books_formatted/Book1.pkl\",\"wb\") as f:\n",
    "    pkl.dump(Chapters_text,f)"
   ]
  },
  {
   "cell_type": "code",
   "execution_count": null,
   "metadata": {},
   "outputs": [],
   "source": []
  }
 ],
 "metadata": {
  "kernelspec": {
   "display_name": ".venv",
   "language": "python",
   "name": "python3"
  },
  "language_info": {
   "codemirror_mode": {
    "name": "ipython",
    "version": 3
   },
   "file_extension": ".py",
   "mimetype": "text/x-python",
   "name": "python",
   "nbconvert_exporter": "python",
   "pygments_lexer": "ipython3",
   "version": "3.9.16"
  },
  "orig_nbformat": 4
 },
 "nbformat": 4,
 "nbformat_minor": 2
}
