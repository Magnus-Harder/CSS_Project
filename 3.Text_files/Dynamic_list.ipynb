{
 "cells": [
  {
   "cell_type": "code",
   "execution_count": 1,
   "metadata": {},
   "outputs": [],
   "source": [
    "# Data-handling libraries\n",
    "import pickle as pkl\n",
    "import pandas as pd\n",
    "import matplotlib.pyplot as plt\n",
    "from tqdm import tqdm\n",
    "\n",
    "# Custom libraries\n",
    "from get_text import text_book"
   ]
  },
  {
   "cell_type": "code",
   "execution_count": 3,
   "metadata": {},
   "outputs": [
    {
     "name": "stdout",
     "output_type": "stream",
     "text": [
      " Number of chapters: 17, number of pages: 347, number of sentences: 4929\n",
      " Number of characters: 677, number of aliases: 2000\n"
     ]
    }
   ],
   "source": [
    "# Load formatted book (dict of chapters with list of lists of pages and sentences)\n",
    "with open(\"1.Dataset_files/Books_formatted/Book1.pkl\",\"rb\") as f:\n",
    "    book = pkl.load(f)\n",
    "\n",
    "print(f\" Number of chapters: {len(book)}, number of pages: {sum([len(chapter) for chapter in book.values()])}, number of sentences: {sum([sum([len(page) for page in chapter]) for chapter in book.values()])}\")\n",
    "\n",
    "# Load characters wiki\n",
    "character_df = pd.read_csv(\"1.Dataset_files/CharacterWikis_clean.csv\")\n",
    "character_df.Aliases = [eval(char) for char in character_df.Aliases]\n",
    "character_df.Tokens = [eval(t) for t in character_df.Tokens]\n",
    "\n",
    "# dict so we have all nodes (list of dicts of all character names (str) and their aliases (list of str)))\n",
    "characters = []\n",
    "for i, char in enumerate(character_df.Aliases):\n",
    "\n",
    "    characters.append({'name':character_df['Name'].iloc[i], 'aliases': char + [character_df['Name'].iloc[i]]})\n",
    "\n",
    "print(f\" Number of characters: {len(characters)}, number of aliases: {sum([len(char['aliases']) for char in characters])}\")"
   ]
  },
  {
   "cell_type": "code",
   "execution_count": 4,
   "metadata": {},
   "outputs": [
    {
     "name": "stderr",
     "output_type": "stream",
     "text": [
      "100%|██████████| 677/677 [00:12<00:00, 53.31it/s] \n"
     ]
    }
   ],
   "source": [
    "Characters_dynamic_text = {}\n",
    "\n",
    "for char in tqdm(characters):\n",
    "    Characters_dynamic_text[char['name']] = text_book(char['aliases'],book)"
   ]
  },
  {
   "cell_type": "code",
   "execution_count": null,
   "metadata": {},
   "outputs": [],
   "source": []
  }
 ],
 "metadata": {
  "kernelspec": {
   "display_name": ".venv",
   "language": "python",
   "name": "python3"
  },
  "language_info": {
   "codemirror_mode": {
    "name": "ipython",
    "version": 3
   },
   "file_extension": ".py",
   "mimetype": "text/x-python",
   "name": "python",
   "nbconvert_exporter": "python",
   "pygments_lexer": "ipython3",
   "version": "3.9.16"
  },
  "orig_nbformat": 4
 },
 "nbformat": 4,
 "nbformat_minor": 2
}
