{
 "cells": [
  {
   "cell_type": "code",
   "execution_count": 2,
   "metadata": {},
   "outputs": [],
   "source": [
    "import requests\n",
    "from bs4 import BeautifulSoup\n",
    "import numpy as np\n",
    "import pandas as pd"
   ]
  },
  {
   "cell_type": "code",
   "execution_count": 7,
   "metadata": {},
   "outputs": [],
   "source": [
    "# Path\n",
    "path = 'https://raw.githubusercontent.com/formcept/whiteboard/master/nbviewer/notebooks/data/harrypotter/'\n",
    "\n",
    "# Books list\n",
    "books = [\"Book 1 - The Philosopher's Stone.txt\",\n",
    "         \"Book 2 - The Chamber of Secrets.txt\",\n",
    "         \"Book 3 - The Prisoner of Azkaban.txt\",\n",
    "         \"Book 4 - The Goblet of Fire.txt\",\n",
    "         \"Book 5 - The Order of the Phoenix.txt\",\n",
    "         \"Book 6 - The Half Blood Prince.txt\",\n",
    "         \"Book 7 - The Deathly Hallows.txt\"]"
   ]
  },
  {
   "cell_type": "code",
   "execution_count": 14,
   "metadata": {},
   "outputs": [],
   "source": [
    "for book in books:\n",
    "    # Get the book\n",
    "    url = path + books[0].replace(' ', '%20')\n",
    "    r = requests.get(url)\n",
    "    soup = BeautifulSoup(r.text, 'html.parser')\n",
    "\n",
    "    # Save the book\n",
    "    with open('Books/'+ book, 'w') as f:\n",
    "        f.write(soup.text)"
   ]
  }
 ],
 "metadata": {
  "kernelspec": {
   "display_name": "02467",
   "language": "python",
   "name": "python3"
  },
  "language_info": {
   "codemirror_mode": {
    "name": "ipython",
    "version": 3
   },
   "file_extension": ".py",
   "mimetype": "text/x-python",
   "name": "python",
   "nbconvert_exporter": "python",
   "pygments_lexer": "ipython3",
   "version": "3.9.16"
  },
  "orig_nbformat": 4
 },
 "nbformat": 4,
 "nbformat_minor": 2
}
