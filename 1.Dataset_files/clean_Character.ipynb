{
 "cells": [
  {
   "cell_type": "code",
   "execution_count": 1,
   "metadata": {},
   "outputs": [],
   "source": [
    "import pickle as pkl\n",
    "import pandas as pd\n",
    "import numpy as np"
   ]
  },
  {
   "cell_type": "code",
   "execution_count": 2,
   "metadata": {},
   "outputs": [],
   "source": [
    "with open(\"pot_dub.txt\",\"r\") as f:\n",
    "    pot_dub = f.readlines()\n",
    "    pot_dub = [char.strip() for char in pot_dub]\n",
    "    remove_char = []\n",
    "    for char in pot_dub:\n",
    "        if char[-3:] == \"(R)\":\n",
    "            remove_char.append(char[:-4])"
   ]
  },
  {
   "cell_type": "code",
   "execution_count": 5,
   "metadata": {},
   "outputs": [
    {
     "name": "stdout",
     "output_type": "stream",
     "text": [
      "707\n"
     ]
    }
   ],
   "source": [
    "# Load the character dataset\n",
    "character_df = pd.read_csv(\"1.Dataset_files/CharacterWikis.csv\")\n",
    "character_df.Aliases = [eval(char) for char in character_df.Aliases]\n",
    "character_df.Tokens = [eval(t) for t in character_df.Tokens]\n",
    "character_df.Name[697] = \"Lily L. Potter\"\n",
    "print(len(character_df))"
   ]
  },
  {
   "cell_type": "code",
   "execution_count": 6,
   "metadata": {},
   "outputs": [
    {
     "name": "stdout",
     "output_type": "stream",
     "text": [
      "Unicorn\n",
      "Weasley family\n",
      "Weasley family\n",
      "Ogden\n",
      "Care of Magical Creatures\n",
      "Unicorn\n",
      "Care of Magical Creatures\n",
      "Hedge Maze\n",
      "Hedge Maze\n",
      "Hedge Maze\n",
      "Crabbe\n",
      "Goyle\n",
      "Nott\n",
      "12 Grimmauld Place\n",
      "12 Grimmauld Place\n",
      "12 Grimmauld Place\n",
      "Bob\n",
      "Care of Magical Creatures\n",
      "Arnold\n",
      "Tiberius\n",
      "Urquhart\n",
      "Lestrange\n",
      "Bletchley\n",
      "Snatchers\n",
      "Dudley\n",
      "Snatchers\n",
      "Ravenclaw\n",
      "Lily L. Potter\n",
      "James Potter II\n",
      "Albus Potter\n"
     ]
    }
   ],
   "source": [
    "# Remove the rows with characters\n",
    "for idx,row in character_df.iterrows():\n",
    "    if row.Name in remove_char:\n",
    "        print(row.Name)\n",
    "        character_df.drop(idx,inplace=True)\n",
    "        continue\n",
    "\n",
    "# Reset the index\n",
    "character_df.index = np.arange(len(character_df))"
   ]
  },
  {
   "cell_type": "code",
   "execution_count": 7,
   "metadata": {},
   "outputs": [],
   "source": [
    "# Clean the aliases\n",
    "# If alias is a name of a character, remove it\n",
    "Names = character_df.Name.tolist()\n",
    "for idx,row in character_df.iterrows():\n",
    "    for alias in row.Aliases:\n",
    "        if alias in Names:\n",
    "            character_df.at[idx,\"Aliases\"].remove(alias)\n",
    "\n",
    "# Readd the names to the aliases\n",
    "for idx,row in character_df.iterrows():\n",
    "    if row.Name not in row.Aliases:\n",
    "        character_df.at[idx,\"Aliases\"].append(row.Name)"
   ]
  },
  {
   "cell_type": "code",
   "execution_count": 8,
   "metadata": {},
   "outputs": [],
   "source": [
    "# Reverse traverse the aliases to remove duplicates\n",
    "for i in range(len(character_df)-1,-1,-1):\n",
    "    row = character_df.iloc[i]\n",
    "\n",
    "    # Get all the aliases before the current row\n",
    "    aliases = []\n",
    "    for alias in character_df['Aliases'][:i]:\n",
    "        aliases.extend(alias)\n",
    "\n",
    "    # Remove the duplicates\n",
    "    for alias in row.Aliases:\n",
    "        if alias in aliases:\n",
    "            character_df.at[i,\"Aliases\"].remove(alias)"
   ]
  },
  {
   "cell_type": "code",
   "execution_count": 9,
   "metadata": {},
   "outputs": [],
   "source": [
    "character_df.to_csv(\"1.Dataset_files/CharacterWikis_clean.csv\",index=False)"
   ]
  }
 ],
 "metadata": {
  "kernelspec": {
   "display_name": ".venv",
   "language": "python",
   "name": "python3"
  },
  "language_info": {
   "codemirror_mode": {
    "name": "ipython",
    "version": 3
   },
   "file_extension": ".py",
   "mimetype": "text/x-python",
   "name": "python",
   "nbconvert_exporter": "python",
   "pygments_lexer": "ipython3",
   "version": "3.9.16"
  },
  "orig_nbformat": 4
 },
 "nbformat": 4,
 "nbformat_minor": 2
}
