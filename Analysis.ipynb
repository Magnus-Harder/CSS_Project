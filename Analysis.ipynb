{
 "cells": [
  {
   "attachments": {},
   "cell_type": "markdown",
   "metadata": {},
   "source": [
    "With our dataset, we set out to explore the following key research questions:\n",
    "1. **HOW DO THE BOOKS CHANGE OVER TIME?**: The Harry Potter books where written by J.K. Rowling and initially published between 26th June 1997 – 21st July 2007. The first book (Harry Potter and the Philosopher's Stone) was originally marketed as a kids-book, but as the next 6 books were published in a span of 10 years, the primary audience of the books grew up. We thus wanted to understand if the topics discussed in the books over time became more complex and more adult. This question is answered by 1) looking at the temporal analysis of the character graphs, to understand if the number of key characters and the number of interactions change over time to address a more mature reader with better memory, and 2) looking at the full book texts through wordclouds and Flesch's Reading Ease score over time to understand if the language and themes discuss become more adult and complex.\n",
    "2. **HOW DO THE CHARACTERS, THEIR INTERACTIONS / RELATIONSHIPS, AND LANGUAGE SURROUNDING THEM CHANGE THROUGHOUT KEY MOMENTS IN THE HARRY POTTER BOOKS?**: It is no secret that what makes a book or series of book exciting to read are its shocking and exciting key moments, where big changes in character archs happen. We thus wanted to understand how the characters, their interactions and the language surrounding them changed throughout some identified key moments in the Harry Potter books. This question is answered by 1) looking at the temporal analysis of the character graphs, to understand how how key moments have an effect on sub-communities (i.e. changes in alliance), and 2) looking at the book texts that surrounds a character at a specific time through wordclouds and sentiment analysis to understand if they are portrayed in a different light as there character arch developments are uncovered. The pre-defined key moments we will explore in this work are:\n",
    "    1. The Muggle world vs. the Wizarding world: A magical (pun intended) contrast in the first book is the distinction between the first 3 chapters of book one and the remaining part of the first book. The first 3 chapters are set in the Muggle world, where Harry is treated as an outcast and is bullied by his cousin Dudley. The remaining part of the book is set in the Wizarding world, where Harry is treated as a hero and is loved by everyone. We would thus expect to see a clear distinction in the character graphs (if nothing else, simply because of the sheer amount of new characters introduced in the wizarding world) and the sentiment of the books shifting to being more positive.\n",
    "    2. The establishment of Dumbledore's Army: In the fifth book, Harry, Ron, Hermione and other Hogwards pupils establish Dumbledore's Army, a secret organisation that teaches students defensive spells to protect themselves against the dark arts as an answer to the reign of terror under the new headmistress Dolores Umbridge. We would thus expect to see a clear distinction in the character graphs, where the members of Dumbledore's Army are more closely connected to each other, and the sentiment of the books shifting to being more hopeful.\n",
    "    3. Snape's True allegiance: In the ending of book 6, Severus Snape goes on to kill Albus Dumbledore. This is a huge shock to the reader, as Snape has been portrayed as a good guy (if not suspicious) throughout the entire series. However in book 7, it is later revealed that Snape was in fact a double agent, and was working for Dumbledore all along. We would thus expect to see a clear distinction in the character graphs, where Snape is more closely connected to the Death Eaters after killing Dumbledore and then is linked heavily to especially Dumbledore and Lily Potter after his true alliance is revealed. From a text perspective, we would expect to see Snape's portrayal going from neutral, to negative, to positive (if not still somewhat negative, but with a sad tone).\n",
    "    4. Sirius Black and Peter Pettigrew's true allegiances: Throughout book 3, Sirius Black is treated as a criminal death eater, who is responsible for Voldemort finding and killing Harry's parents, while Peter Pettigrew is described as the hero who died trying to save Harry's parents. Towards the ending of book 3, Sirius Black is revealed to be Harry's godfather and Peter Pettigrew is revealed to be alive and the one who betrayed Harry's parents. We would thus expect to see a clear distinction in the character graphs, where Sirius Black is more closely connected to Harry and the Order of the Phoenix, and Peter Pettigrew is more closely connected to Voldemort and the Death Eaters after this revelation. From the text, we would expect to see Sirius Black's portrayal going from negative, to positive, and Peter Pettigrew's portrayal going from positive, to negative."
   ]
  },
  {
   "attachments": {},
   "cell_type": "markdown",
   "metadata": {},
   "source": [
    "## Analysis big picture\n",
    "\n",
    "### Why do the chosen tools answer our research questions?\n",
    "Following out first research question, to explore and discover changes with in the books and its characters over time, the problem yield requirements for more exploreatory analysis.\n",
    "For the network side our focus was to explain and describe the network from a structural approach. Key metrics such as degree, betweenness centrality, and clustering coefficient, allowed us to understand the network structure. Further we used the modularity score to understand the community structure of the network. This allowed us to understand the changes in the network over time, and how the community structure changed.\n",
    "\n",
    "Accumulating the network analysis with allowed us to see the history as one big developing network yielding a good representation at each point in the history. Furhter also having chapwise analysis allows for a more detailed understanding and dive into to network at each point.\n",
    "\n",
    "Pinpointing small changes for specific changes, could be hard considering only the network. Incorporating the text analysis, we could get a better understanding of the changes at key moments.\n",
    "Specefically Sentiment analysis, allows for understanding of changes in the text sorunding the characters. This could be used to explain the changes in the network, and the changes in the community structure.\n",
    "Further for understanding the difference between text of characters at key moments TF-IDF allows for contextual understanding of the text. Visualizaing as word clouds make the analysis more accesible and interpretable.\n",
    "\n",
    "\n",
    "### What are the limitations of the analysis?\n",
    "Out Data lacks known communities for the nodes in the network. This along with the fact that the network constantly changes over time, and at different keypoint in the books, made it hard to acces the quallity of the different optimal partions. We sougth to overcome this by using the modularity score, along with community change matrix for characters present at both time points. This allowed us to see how the community structure changed over time, and how the characters moved between communities. Yet the insigth was somewhat sparse and hard to interpret. Optimally we would have liked to have a decriptive statistic for the different communities, to better understand the changes of communities.\n",
    "\n",
    "Further the sentiment analysis is limited by the fact that it is based on a lexicon. This means that the analysis is limited by the words in the lexicon. This could be a problem for the analysis of the Harry Potter books, as the books are based in a fantasy world, with a lot of made up words. This could lead to a lot of words being classified as neutral, as they are not in the lexicon. This results in a misinterpretation of the sentiment of text sorounding a character.\n",
    "\n",
    "The accumulating network or instantanous network analysis, is limited by the fact that the network is constantly changing or the stable. Meaning that significant events or changes over the entire book either did not seem to effect the network or was hard to interpret from the already flucturating statistics.\n",
    "\n"
   ]
  },
  {
   "attachments": {},
   "cell_type": "markdown",
   "metadata": {},
   "source": [
    "# Discussion\n",
    "\n",
    "## What went well?\n",
    "\n",
    "Many of the methods we have used throughout this project are primarily used for static networks. This is however in contrast with our original idea of a temporal network that dynamically changes throughout the books. Therefore our handling of data has suited us well, which has allowed us to tap into specific chapters and parts of the books, as well as being able to both look at the accumulated network for a given time. This freedom in our network allows us to both look at key moment details as well as viewing the bigger picture.\n",
    "\n",
    "\n",
    "# What is still missing? What could be improved? Why?\n",
    "Something that perhaps is worth investigating could be to see the word clouds for the communities in each key moment. Looking at the clouds for key characters is also relevant, however this disregards some of the narative that perhaps the entire community tells better. These word clouds could perhaps reveal even more about the key moments that we are currently not covering.\n",
    "\n",
    "Another point of interest is the fact that temproal networks like the one we use are not suited for showing the vast amount of interconnections between characters over time. The growing network ensures that central characters in the books become more and more clear. However this also brings issues when wanting to analyse specific parts of the books. This is because changes early in the books have bigger relative impact on the network compared to some of the final chapters. Therefore it would be nice to add some sort of exponential weight decay to the network weights, so that recent connections in the network always result in the biggest changes to the network. This would make examining key moments more interesting, since some past connections would still be present, without having to ignore the entire past of the story like we are doing now.\n",
    "\n",
    "It would also be interesting to experiment with the window size when creating both our dynamic text, as well as our network. Perhaps some of the connections that are naratively quite strong, because an event will often take cause over multiple pages. Experimenting with this window size could prove to reveal new and stronger connections between characters. Adjusting the text window size could maybe also help getting a bigger picture of characters, although also introducing more noice.\n"
   ]
  },
  {
   "cell_type": "code",
   "execution_count": null,
   "metadata": {},
   "outputs": [],
   "source": []
  }
 ],
 "metadata": {
  "kernelspec": {
   "display_name": ".venv",
   "language": "python",
   "name": "python3"
  },
  "language_info": {
   "codemirror_mode": {
    "name": "ipython",
    "version": 3
   },
   "file_extension": ".py",
   "mimetype": "text/x-python",
   "name": "python",
   "nbconvert_exporter": "python",
   "pygments_lexer": "ipython3",
   "version": "3.9.16"
  },
  "orig_nbformat": 4
 },
 "nbformat": 4,
 "nbformat_minor": 2
}
