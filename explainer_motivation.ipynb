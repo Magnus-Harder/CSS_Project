{
 "cells": [
  {
   "cell_type": "code",
   "execution_count": 1,
   "metadata": {},
   "outputs": [],
   "source": [
    "import pickle as pkl\n",
    "import pandas as pd"
   ]
  },
  {
   "attachments": {},
   "cell_type": "markdown",
   "metadata": {},
   "source": [
    "# Motivation"
   ]
  },
  {
   "attachments": {},
   "cell_type": "markdown",
   "metadata": {},
   "source": [
    "## What is your dataset?\n",
    "\n",
    "The raw dataset consisted of data from two sources:\n",
    "1. The original Harry Potter books taken from: https://github.com/formcept/whiteboard/tree/master/nbviewer/notebooks/data/harrypotter\n",
    "2. A list of characters Harry Potter characters taken from:\n",
    "    1. https://harrypotter.fandom.com/wiki/Harry_Potter_and_the_Philosopher%27s_Stone_(character_index)\n",
    "    2. https://harrypotter.fandom.com/wiki/Harry_Potter_and_the_Chamber_of_Secrets_(character_index)\n",
    "    3. https://harrypotter.fandom.com/wiki/Harry_Potter_and_the_Prisoner_of_Azkaban_(character_index)\n",
    "    4. https://harrypotter.fandom.com/wiki/Harry_Potter_and_the_Goblet_of_Fire_(character_index)\n",
    "    5. https://harrypotter.fandom.com/wiki/Harry_Potter_and_the_Order_of_the_Phoenix_(character_index)\n",
    "    6. https://harrypotter.fandom.com/wiki/Harry_Potter_and_the_Half-Blood_Prince_(character_index)\n",
    "    7. https://harrypotter.fandom.com/wiki/Harry_Potter_and_the_Deathly_Hallows_(character_index)\n",
    "\n",
    "The datasets were collected by using API-requests and Beautifulsoup to scrape the data from the websites. The specific functions used for webscraping can be found in `1.Dataset_files/get_Books.ipynb` as well as `1.Dataset_files/get_Characters.ipynb`. Dataset stats before any preprocessing can be seen below:"
   ]
  },
  {
   "cell_type": "code",
   "execution_count": 4,
   "metadata": {},
   "outputs": [
    {
     "name": "stdout",
     "output_type": "stream",
     "text": [
      "The raw-book dataset consists of 7 books, with 1168851 words, and 6765119 characters.\n",
      "The raw character-list for all 7 books consisted of 707 characters.\n"
     ]
    }
   ],
   "source": [
    "len_books = []\n",
    "\n",
    "book_titles = [\"Book 1 - The Philosopher's Stone\",\n",
    "               \"Book 2 - The Chamber of Secrets\",\n",
    "               \"Book 3 - The Prisoner of Azkaban\",\n",
    "               \"Book 4 - The Goblet of Fire\",\n",
    "               \"Book 5 - The Order of the Phoenix\",\n",
    "               \"Book 6 - The Half Blood Prince\",\n",
    "               \"Book 7 - The Deathly Hallows\"]\n",
    "\n",
    "for title in book_titles:\n",
    "    book = open(\"1.Dataset_files/OriginalBooks/\" + title + \".txt\", \"r\").read()\n",
    "    len_books.append((len(book.split(\" \")), len(book)))\n",
    "\n",
    "print(f\"The raw-book dataset consists of {len(len_books)} books, with {sum([l[0] for l in len_books])} words, and {sum([l[1] for l in len_books])} characters.\")\n",
    "df_characters_raw = pd.read_csv(\"1.Dataset_files/CharacterWikis.csv\")\n",
    "print(f\"The raw character-list for all 7 books consisted of {len(df_characters_raw)} characters.\")"
   ]
  },
  {
   "attachments": {},
   "cell_type": "markdown",
   "metadata": {},
   "source": [
    "## Why did you choose this/these particular dataset(s)?\n",
    "\n",
    "It should be no secret that all three of us consider ourselves huge \"Potterheads\". We have all read and loved the books multiple times. Thus for us, the reasoning behind choosing this dataset was quite simple: We wanted to work with something we were passionate about and had some degree of expert knowledge in. Choosing this dataset, enabled us to work with more advanced network and text analysis techniques, such as temporal analysis of networks and wordclouds and sentiment analysis."
   ]
  },
  {
   "attachments": {},
   "cell_type": "markdown",
   "metadata": {},
   "source": [
    "## What was your goal for the end user's experience?\n",
    "\n",
    "With our dataset, we set out to explore the following key research questions:\n",
    "1. **HOW DO THE BOOKS CHANGE OVER TIME?**: The Harry Potter books where written by J.K. Rowling and initially published between 26th June 1997 – 21st July 2007. The first book (Harry Potter and the Philosopher's Stone) was originally marketed as a kids-book, but as the next 6 books were published in a span of 10 years, the primary audience of the books grew up. We thus wanted to understand if the topics discussed in the books over time became more complex and more adult. This question is answered by 1) looking at the temporal analysis of the character graphs, to understand if the number of key characters and the number of interactions change over time to address a more mature reader with better memory, and 2) looking at the full book texts through wordclouds and Flesch's Reading Ease score over time to understand if the language and themes discuss become more adult and complex.\n",
    "2. **HOW DO THE CHARACTERS, THEIR INTERACTIONS / RELATIONSHIPS, AND LANGUAGE SURROUNDING THEM CHANGE THROUGHOUT KEY MOMENTS IN THE HARRY POTTER BOOKS?**: It is no secret that what makes a book or series of book exciting to read are its shocking and exciting key moments, where big changes in character archs happen. We thus wanted to understand how the characters, their interactions and the language surrounding them changed throughout some identified key moments in the Harry Potter books. This question is answered by 1) looking at the temporal analysis of the character graphs, to understand how how key moments have an effect on sub-communities (i.e. changes in alliance), and 2) looking at the book texts that surrounds a character at a specific time through wordclouds and sentiment analysis to understand if they are portrayed in a different light as there character arch developments are uncovered. The pre-defined key moments we will explore in this work are:\n",
    "    1. The Muggle world vs. the Wizarding world: A magical (pun intended) contrast in the first book is the distinction between the first 3 chapters of book one and the remaining part of the first book. The first 3 chapters are set in the Muggle world, where Harry is treated as an outcast and is bullied by his cousin Dudley. The remaining part of the book is set in the Wizarding world, where Harry is treated as a hero and is loved by everyone. We would thus expect to see a clear distinction in the character graphs (if nothing else, simply because of the sheer amount of new characters introduced in the wizarding world) and the sentiment of the books shifting to being more positive.\n",
    "    2. The establishment of Dumbledore's Army: In the fifth book, Harry, Ron, Hermione and other Hogwards pupils establish Dumbledore's Army, a secret organisation that teaches students defensive spells to protect themselves against the dark arts as an answer to the reign of terror under the new headmistress Dolores Umbridge. We would thus expect to see a clear distinction in the character graphs, where the members of Dumbledore's Army are more closely connected to each other, and the sentiment of the books shifting to being more hopeful.\n",
    "    3. Snape's True allegiance: In the ending of book 6, Severus Snape goes on to kill Albus Dumbledore. This is a huge shock to the reader, as Snape has been portrayed as a good guy (if not suspicious) throughout the entire series. However in book 7, it is later revealed that Snape was in fact a double agent, and was working for Dumbledore all along. We would thus expect to see a clear distinction in the character graphs, where Snape is more closely connected to the Death Eaters after killing Dumbledore and then is linked heavily to especially Dumbledore and Lily Potter after his true alliance is revealed. From a text perspective, we would expect to see Snape's portrayal going from neutral, to negative, to positive (if not still somewhat negative, but with a sad tone).\n",
    "    4. Sirius Black and Peter Pettigrew's true allegiances: Throughout book 3, Sirius Black is treated as a criminal death eater, who is responsible for Voldemort finding and killing Harry's parents, while Peter Pettigrew is described as the hero who died trying to save Harry's parents. Towards the ending of book 3, Sirius Black is revealed to be Harry's godfather and Peter Pettigrew is revealed to be alive and the one who betrayed Harry's parents. We would thus expect to see a clear distinction in the character graphs, where Sirius Black is more closely connected to Harry and the Order of the Phoenix, and Peter Pettigrew is more closely connected to Voldemort and the Death Eaters after this revelation. From the text, we would expect to see Sirius Black's portrayal going from negative, to positive, and Peter Pettigrew's portrayal going from positive, to negative.\n",
    "\n",
    "In summary, our main goal for the end user's experience was to provide a tool that could help them explore the Harry Potter books in a new and way. We wanted to create new-found excitement in the user's mind about this pheominal books series, and give some reasoning behind what makes them so good, namely its dynamically changing and expanding world of characters, their motives and relationships."
   ]
  }
 ],
 "metadata": {
  "kernelspec": {
   "display_name": "02467",
   "language": "python",
   "name": "python3"
  },
  "language_info": {
   "codemirror_mode": {
    "name": "ipython",
    "version": 3
   },
   "file_extension": ".py",
   "mimetype": "text/x-python",
   "name": "python",
   "nbconvert_exporter": "python",
   "pygments_lexer": "ipython3",
   "version": "3.9.16"
  },
  "orig_nbformat": 4
 },
 "nbformat": 4,
 "nbformat_minor": 2
}
