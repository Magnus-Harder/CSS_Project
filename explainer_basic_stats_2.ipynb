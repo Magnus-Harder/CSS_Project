{
 "cells": [
  {
   "attachments": {},
   "cell_type": "markdown",
   "metadata": {},
   "source": [
    "### Setting up the network\n",
    "\n"
   ]
  },
  {
   "attachments": {},
   "cell_type": "markdown",
   "metadata": {},
   "source": [
    "With the character lists in place, and the books cleaned, we are now ready to create the network graph that we wish to analyze. Since we will need multiple graphs for the different analyses we will perform later, the first usefull graph we can look at contains the complete network of each book. As well as this we wish to be able to differentiate between the chapters for said books in order to keep track of where each appearance and connection between characters take place.\n",
    "\n",
    "First of all let's consider a dictionary of graphs, that represent the complete network for each book. For this we use the functions as seen below:\n",
    "`get_edge_chapter_weight(character1, character2, chapter)` calculates the edge weight between two lists of characters, which is then used in the `get_edge_book_weight(character1, character2, book)` function to get the edges between two characters for a given book. This is done by looping over all chapters of the book whilst calling the `get_edge_chapter_weight()` function. The `get_node_size(character, book)` function also loops over every chapter in a book to calculate the total appearances of every character. "
   ]
  },
  {
   "cell_type": "code",
   "execution_count": null,
   "metadata": {},
   "outputs": [],
   "source": [
    "def get_edge_chapter_weight(character1: list, character2: list, chapter: list):\n",
    "    weight = 0\n",
    "    for page in chapter:\n",
    "        page_text = ' '.join(page)\n",
    "        if any([char in page_text for char in character1]) and any([char in page_text for char in character2]):\n",
    "                weight += 1\n",
    "    \n",
    "    return weight\n",
    "\n",
    "def get_edge_book_weight(character1: list, character2: list, book: dict):\n",
    "    weight = defaultdict(int)\n",
    "    for chapternr in range(1, len(book)+1):\n",
    "        weight[chapternr] = get_edge_chapter_weight(character1, character2, book[chapternr])\n",
    "    return weight\n",
    "\n",
    "def get_node_size(character: list, book: dict):\n",
    "    size = defaultdict(int)\n",
    "    for chapternr, chapter  in book.items():\n",
    "        for page in chapter:\n",
    "            page_text = ' '.join(page)\n",
    "            if any([char in page_text for char in character]):\n",
    "                size[chapternr] += 1\n",
    "    return size"
   ]
  },
  {
   "attachments": {},
   "cell_type": "markdown",
   "metadata": {},
   "source": [
    "These functions are then combined in a loop regarding all books, where the full network of each book, is added with size and edge weights between characters. This process is seen in the loop below:"
   ]
  },
  {
   "cell_type": "code",
   "execution_count": null,
   "metadata": {},
   "outputs": [],
   "source": [
    "from Utils.network_utils import get_node_size, get_edge_book_weight\n",
    "\n",
    "Boook_networks = {}\n",
    "\n",
    "for book_nr in range(1,8):\n",
    "    # Load formatted book (dict of chapters with list of lists of pages and sentences)\n",
    "    with open(f\"1.Dataset_files/Books_formatted/Book{book_nr}.pkl\",\"rb\") as f:\n",
    "        book = pkl.load(f)\n",
    "\n",
    "    print(f\"Book {book_nr}, Number of chapters: {len(book)}, number of pages: {sum([len(chapter) for chapter in book.values()])}, number of sentences: {sum([sum([len(page) for page in chapter]) for chapter in book.values()])}\")\n",
    "\n",
    "\n",
    "    # Draw network\n",
    "    G = nx.Graph()\n",
    "\n",
    "    # Add nodes to graph\n",
    "    for character in tqdm(characters, desc='Adding character nodes to graph...'):\n",
    "        character['sizes'] = get_node_size(character['aliases'], book)\n",
    "        G.add_node(character['name'], sizes=character['sizes'], attr=character['aliases'])\n",
    "\n",
    "    # Add edges to graph\n",
    "    for i, char1 in enumerate(tqdm(characters, desc='Adding edges to graph...')):\n",
    "        for j, char2 in enumerate(characters[i+1:]):\n",
    "            edge_weight = get_edge_book_weight(char1['aliases'], char2['aliases'], book)\n",
    "            if sum(edge_weight.values()) != 0:\n",
    "                G.add_edge(char1['name'], char2['name'], weight=edge_weight)\n",
    "\n",
    "    # Save graph\n",
    "    Boook_networks[book_nr] = G.copy()"
   ]
  },
  {
   "attachments": {},
   "cell_type": "markdown",
   "metadata": {},
   "source": [
    "In summary this dictionary of networks contain networks corresponding to each book. Each of these networks have nodes and edges that consist of character appearances- and co-appearances. Each of the nodes contain the attributes `name`, `size`, and `chapter_nr`. Therefore the network can be used to find the network state at a specific point in time in the books. This will be explored below."
   ]
  }
 ],
 "metadata": {
  "language_info": {
   "name": "python"
  },
  "orig_nbformat": 4
 },
 "nbformat": 4,
 "nbformat_minor": 2
}
