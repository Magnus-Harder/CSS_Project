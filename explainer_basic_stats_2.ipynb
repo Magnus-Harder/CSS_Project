{
 "cells": [
  {
   "attachments": {},
   "cell_type": "markdown",
   "metadata": {},
   "source": [
    "### Setting up the network\n",
    "\n"
   ]
  },
  {
   "attachments": {},
   "cell_type": "markdown",
   "metadata": {},
   "source": [
    "With the character lists in place, and the books cleaned, we are now ready to create the network graph that we wish to analyze. Since it is both of interest to look at each chapter individually, as well as the complete temporal network up until a given point, we wish to keep two seperate lists of these networks.\n",
    "\n",
    "First of all let's consider a list of graphs, that represent the complete network for each book. For this we use the functions as seen below:\n",
    "'get_edge_chapter_weight()' calculates the edge weight between two characters, which is then used in the 'get_edge_book_weight()' function to get the edges between two characters for a given book. This is done by looping over all chapters of the book whilst calling the 'get_edge_chapter_weight()' function. The 'get_node_size()' function also loops over every chapter in a book to calculate the total appearances of characters."
   ]
  },
  {
   "cell_type": "code",
   "execution_count": null,
   "metadata": {},
   "outputs": [],
   "source": [
    "def get_edge_chapter_weight(character1: list, character2: list, chapter: list):\n",
    "    weight = 0\n",
    "    for page in chapter:\n",
    "        page_text = ' '.join(page)\n",
    "        if any([char in page_text for char in character1]) and any([char in page_text for char in character2]):\n",
    "                weight += 1\n",
    "    \n",
    "    return weight\n",
    "\n",
    "def get_edge_book_weight(character1: list, character2: list, book: dict):\n",
    "    weight = defaultdict(int)\n",
    "    for chapternr in range(1, len(book)+1):\n",
    "        weight[chapternr] = get_edge_chapter_weight(character1, character2, book[chapternr])\n",
    "    return weight\n",
    "\n",
    "def get_node_size(character: list, book: dict):\n",
    "    size = defaultdict(int)\n",
    "    for chapternr, chapter  in book.items():\n",
    "        for page in chapter:\n",
    "            page_text = ' '.join(page)\n",
    "            if any([char in page_text for char in character]):\n",
    "                size[chapternr] += 1\n",
    "    return size"
   ]
  },
  {
   "attachments": {},
   "cell_type": "markdown",
   "metadata": {},
   "source": [
    "These functions are then combined in a loop regarding all books, where the full network of each book, is added with size and edge weights between characters. This process is seen in the loop below:"
   ]
  },
  {
   "cell_type": "code",
   "execution_count": null,
   "metadata": {},
   "outputs": [],
   "source": [
    "from Utils.network_utils import get_node_size, get_edge_book_weight\n",
    "\n",
    "Boook_networks = {}\n",
    "\n",
    "for book_nr in range(1,8):\n",
    "    # Load formatted book (dict of chapters with list of lists of pages and sentences)\n",
    "    with open(f\"1.Dataset_files/Books_formatted/Book{book_nr}.pkl\",\"rb\") as f:\n",
    "        book = pkl.load(f)\n",
    "\n",
    "    print(f\"Book {book_nr}, Number of chapters: {len(book)}, number of pages: {sum([len(chapter) for chapter in book.values()])}, number of sentences: {sum([sum([len(page) for page in chapter]) for chapter in book.values()])}\")\n",
    "\n",
    "\n",
    "    # Draw network\n",
    "    G = nx.Graph()\n",
    "\n",
    "    # Add nodes to graph\n",
    "    for character in tqdm(characters, desc='Adding character nodes to graph...'):\n",
    "        character['sizes'] = get_node_size(character['aliases'], book)\n",
    "        G.add_node(character['name'], sizes=character['sizes'], attr=character['aliases'])\n",
    "\n",
    "    # Add edges to graph\n",
    "    for i, char1 in enumerate(tqdm(characters, desc='Adding edges to graph...')):\n",
    "        for j, char2 in enumerate(characters[i+1:]):\n",
    "            edge_weight = get_edge_book_weight(char1['aliases'], char2['aliases'], book)\n",
    "            if sum(edge_weight.values()) != 0:\n",
    "                G.add_edge(char1['name'], char2['name'], weight=edge_weight)\n",
    "\n",
    "    # Save graph\n",
    "    Boook_networks[book_nr] = G.copy()"
   ]
  },
  {
   "cell_type": "code",
   "execution_count": null,
   "metadata": {},
   "outputs": [],
   "source": []
  }
 ],
 "metadata": {
  "language_info": {
   "name": "python"
  },
  "orig_nbformat": 4
 },
 "nbformat": 4,
 "nbformat_minor": 2
}
