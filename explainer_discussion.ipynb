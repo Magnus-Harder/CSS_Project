{
 "cells": [
  {
   "attachments": {},
   "cell_type": "markdown",
   "metadata": {},
   "source": [
    "### 4. Discussion"
   ]
  },
  {
   "attachments": {},
   "cell_type": "markdown",
   "metadata": {},
   "source": [
    "Questions:\n",
    "How do the books change over time?\n",
    "HOW DO THE CHARACTERS, THEIR INTERACTIONS / RELATIONSHIPS, AND LANGUAGE SURROUNDING THEM CHANGE THROUGHOUT KEY MOMENTS IN THE HARRY POTTER BOOKS?\n",
    "\n",
    "\n",
    "Think critically about your creation\n",
    "What went well?\n",
    "What is still missing? What could be improved? Why?\n",
    "\n",
    "\n",
    "Network methods\n",
    "- Degree centrality over time\n",
    "    Degree centrality over time works quite well to show how central characters become with each chapter. Since Harry Potter is usually always a central character, it also gives an idea as to how connected other characters are to Harry.\n",
    "- Community distributions\n",
    "    Community distributions are somewhat usefull, however they are limited by the fact that communities aren't labeled which means that characters in community 1 in one network does not correspond to the characters that are present in community 1 in another network. Therfore changes in communities are difficutlt to track over time.\n",
    "- Community matrix\n",
    "- Central nodes\n",
    "    Showing the central nodes of each community is interesting since these characters represent their communities well, which means that we can use these characters to find connections between characters\n",
    "- Qualitative network analysis\n",
    "    Working with network graps can be somewhat tricky, as larger graphs are often very hard to interpret\n",
    "- Degree distrubtions\n",
    "- Degree assortativity matrix\n",
    "- Modularity distribtutions\n",
    "\n",
    "Text methods\n",
    "- FRE score\n",
    "    The FRE score generally gives a good sense of how easy a text is to read. However, in a text full of magical encantations and fictitious creatures, FRE may not be entirely comparable to the standard theshholds, although the changes in FRE should still reflect actual reading difficulty.\n",
    "- Sentiment score\n",
    "- Word Clouds\n",
    "    Word clouds are generally good \n",
    "- TF-IDF\n",
    "\n",
    "\n",
    "\n",
    "Further work:\n",
    "- exponentiel weight decay, so that recent connections are more influencial.\n",
    "Temproal networks like the one we use are good at showing the vast amount of interconnections between characters over time. The growing network ensures that central characters in the books become more and more clear. However this also brings issues when wanting to analyse specific parts of the books. This is because changes early in the books have bigger impact on the network compared to some of the final chapters. Therefore it would be nice to add some sort of weight decay to the network weights, so that recent connections in the network always result in the biggest changes to the network. This could be added by exponentially decaying both node sizes and edge weights. This would make examining key moments more interesting, since some past connections would still be present, without distracting from the most recent events.\n",
    "\n",
    "- death eater/Hogwarts house classification based on connections using neural networks.\n",
    "Another interesting idea is leveraging communities in the network for deep learning in order to classify characters e.g as whether or not they are death eaters, or which Hogwarts house they belong to. This could perhaps help us show the true allegiance of characters before it is revealed in the books. This could also be used to find more underlying connections between characters that maybe seem unclear.\n",
    "\n"
   ]
  }
 ],
 "metadata": {
  "language_info": {
   "name": "python"
  },
  "orig_nbformat": 4
 },
 "nbformat": 4,
 "nbformat_minor": 2
}
